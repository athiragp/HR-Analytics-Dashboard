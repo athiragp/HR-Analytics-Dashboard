{
  "nbformat": 4,
  "nbformat_minor": 0,
  "metadata": {
    "colab": {
      "provenance": [],
      "mount_file_id": "1KnakOS0G-vwqHNx7RINeeWNZR0h8seCA",
      "authorship_tag": "ABX9TyOn5FeLo836hdDXV+viOhkV",
      "include_colab_link": true
    },
    "kernelspec": {
      "name": "python3",
      "display_name": "Python 3"
    },
    "language_info": {
      "name": "python"
    }
  },
  "cells": [
    {
      "cell_type": "markdown",
      "metadata": {
        "id": "view-in-github",
        "colab_type": "text"
      },
      "source": [
        "<a href=\"https://colab.research.google.com/github/athiragp/HR-Analytics-Dashboard/blob/main/HR_analyticstableau.ipynb\" target=\"_parent\"><img src=\"https://colab.research.google.com/assets/colab-badge.svg\" alt=\"Open In Colab\"/></a>"
      ]
    },
    {
      "cell_type": "code",
      "execution_count": null,
      "metadata": {
        "id": "mCfZDi02KVd5"
      },
      "outputs": [],
      "source": [
        "import numpy as np\n",
        "import pandas as pd\n",
        "import matplotlib.pyplot as plt\n",
        "import seaborn as sns\n",
        "import datetime\n"
      ]
    },
    {
      "cell_type": "code",
      "source": [
        "from google.colab import drive\n",
        "drive.mount('/content/drive')"
      ],
      "metadata": {
        "colab": {
          "base_uri": "https://localhost:8080/"
        },
        "id": "4K_qlnXoKaaB",
        "outputId": "74d22994-a5bf-4589-8710-ff1c384484a3"
      },
      "execution_count": null,
      "outputs": [
        {
          "output_type": "stream",
          "name": "stdout",
          "text": [
            "Drive already mounted at /content/drive; to attempt to forcibly remount, call drive.mount(\"/content/drive\", force_remount=True).\n"
          ]
        }
      ]
    },
    {
      "cell_type": "code",
      "source": [
        "df=pd.read_csv('/content/drive/MyDrive/Data_works/Data_files/HR Data.xlsx - HR data.csv')"
      ],
      "metadata": {
        "id": "WTo8JyezK2tQ"
      },
      "execution_count": null,
      "outputs": []
    },
    {
      "cell_type": "code",
      "source": [
        "df.shape"
      ],
      "metadata": {
        "colab": {
          "base_uri": "https://localhost:8080/"
        },
        "id": "KumHAvQQL39_",
        "outputId": "63fe3718-a5de-4570-93e4-8b4cf3611868"
      },
      "execution_count": null,
      "outputs": [
        {
          "output_type": "execute_result",
          "data": {
            "text/plain": [
              "(1470, 39)"
            ]
          },
          "metadata": {},
          "execution_count": 10
        }
      ]
    },
    {
      "cell_type": "code",
      "source": [
        "df.isnull().sum()"
      ],
      "metadata": {
        "colab": {
          "base_uri": "https://localhost:8080/"
        },
        "id": "mp9625y1Qhft",
        "outputId": "5f6781e4-1d0b-4f77-d067-810b9c6f26a8"
      },
      "execution_count": null,
      "outputs": [
        {
          "output_type": "execute_result",
          "data": {
            "text/plain": [
              "Attrition                     0\n",
              "Business Travel               0\n",
              "CF_age band                   0\n",
              "CF_attrition label            0\n",
              "Department                    0\n",
              "Education Field               0\n",
              "emp no                        0\n",
              "Employee Number               0\n",
              "Gender                        0\n",
              "Job Role                      0\n",
              "Marital Status                0\n",
              "Over Time                     0\n",
              "Over18                        0\n",
              "Training Times Last Year      0\n",
              "Age                           0\n",
              "CF_current Employee           0\n",
              "Daily Rate                    0\n",
              "Distance From Home            0\n",
              "Education                     0\n",
              "Employee Count                0\n",
              "Environment Satisfaction      0\n",
              "Hourly Rate                   0\n",
              "Job Involvement               0\n",
              "Job Level                     0\n",
              "Job Satisfaction              0\n",
              "Monthly Income                0\n",
              "Monthly Rate                  0\n",
              "Num Companies Worked          0\n",
              "Percent Salary Hike           0\n",
              "Performance Rating            0\n",
              "Relationship Satisfaction     0\n",
              "Standard Hours                0\n",
              "Stock Option Level            0\n",
              "Total Working Years           0\n",
              "Work Life Balance             0\n",
              "Years At Company              0\n",
              "Years In Current Role         0\n",
              "Years Since Last Promotion    0\n",
              "Years With Curr Manager       0\n",
              "dtype: int64"
            ]
          },
          "metadata": {},
          "execution_count": 11
        }
      ]
    },
    {
      "cell_type": "code",
      "source": [],
      "metadata": {
        "id": "mdlqbVyLRS5H"
      },
      "execution_count": null,
      "outputs": []
    }
  ]
}